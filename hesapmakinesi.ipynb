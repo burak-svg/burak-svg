{
  "nbformat": 4,
  "nbformat_minor": 0,
  "metadata": {
    "colab": {
      "provenance": [],
      "authorship_tag": "ABX9TyPD8fBTwpnmUSvuHm12Ft10"
    },
    "kernelspec": {
      "name": "python3",
      "display_name": "Python 3"
    },
    "language_info": {
      "name": "python"
    }
  },
  "cells": [
    {
      "cell_type": "code",
      "execution_count": 11,
      "metadata": {
        "colab": {
          "base_uri": "https://localhost:8080/"
        },
        "id": "_gLEVu_qXY70",
        "outputId": "9ff4adc8-4f65-413e-9395-f43dd6ac55c1"
      },
      "outputs": [
        {
          "output_type": "stream",
          "name": "stdout",
          "text": [
            "Yacağınız İşlemi Seçin\n",
            "1.Toplama\n",
            "2.Çıkarma\n",
            "3.Çarpma\n",
            "4.Bölme\n",
            "Çıkmak İçin Çıkış Yazın\n",
            "İşlemi girin (1/2/3/4 veya çıkış yazarak çık): s\n",
            "Geçersiz giriş. Lütfen 1, 2, 3, 4 ya da Çıkış yazın.\n",
            "Hatalı Giriş\n",
            "İşlemi girin (1/2/3/4 veya çıkış yazarak çık): Çıkış\n",
            "Çıkılıyor...\n"
          ]
        }
      ],
      "source": [
        "# prompt: hesap makinesi\n",
        "\n",
        "def add(x, y):\n",
        "    return x + y\n",
        "\n",
        "def subtract(x, y):\n",
        "    return x - y\n",
        "\n",
        "def multiply(x, y):\n",
        "    return x * y\n",
        "\n",
        "def divide(x, y):\n",
        "    if y == 0:\n",
        "        return \"0'a Bölünemez\"\n",
        "    return x / y\n",
        "\n",
        "print(\"Yacağınız İşlemi Seçin\")\n",
        "print(\"1.Toplama\")\n",
        "print(\"2.Çıkarma\")\n",
        "print(\"3.Çarpma\")\n",
        "print(\"4.Bölme\")\n",
        "print(\"Çıkmak İçin Çıkış Yazın\")\n",
        "\n",
        "while True:\n",
        "    choice = input(\"İşlemi girin (1/2/3/4 veya çıkış yazarak çık): \")\n",
        "\n",
        "    if choice == 'Çıkış':\n",
        "        print(\"Çıkılıyor...\")\n",
        "        break\n",
        "\n",
        "    if choice in ('1', '2', '3', '4'):\n",
        "        # işlem kodu buraya\n",
        "        pass\n",
        "    else:\n",
        "        print(\"Geçersiz giriş. Lütfen 1, 2, 3, 4 ya da Çıkış yazın.\")\n",
        "\n",
        "    if choice in ('1', '2', '3', '4'):\n",
        "        num1 = float(input(\"İlk sayıyı girin: \"))\n",
        "        num2 = float(input(\"İkinci sayıyı girin: \"))\n",
        "\n",
        "        if choice == '1':\n",
        "            print(num1, \"+\", num2, \"=\", add(num1, num2))\n",
        "\n",
        "        elif choice == '2':\n",
        "            print(num1, \"-\", num2, \"=\", subtract(num1, num2))\n",
        "\n",
        "        elif choice == '3':\n",
        "            print(num1, \"*\", num2, \"=\", multiply(num1, num2))\n",
        "\n",
        "        elif choice == '4':\n",
        "            print(num1, \"/\", num2, \"=\", divide(num1, num2))\n",
        "        break\n",
        "    else:\n",
        "        print(\"Hatalı Giriş\")\n"
      ]
    }
  ]
}